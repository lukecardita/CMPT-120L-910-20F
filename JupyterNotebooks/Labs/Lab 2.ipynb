{
 "metadata": {
  "language_info": {
   "codemirror_mode": {
    "name": "ipython",
    "version": 3
   },
   "file_extension": ".py",
   "mimetype": "text/x-python",
   "name": "python",
   "nbconvert_exporter": "python",
   "pygments_lexer": "ipython3",
   "version": "3.8.6-final"
  },
  "orig_nbformat": 2,
  "kernelspec": {
   "name": "Python 3.8.6 64-bit",
   "display_name": "Python 3.8.6 64-bit",
   "metadata": {
    "interpreter": {
     "hash": "8fa9398b8cdf00418ffad91cdced0fe62fb1b5d00d77a711022dba0230cc3583"
    }
   }
  }
 },
 "nbformat": 4,
 "nbformat_minor": 2,
 "cells": [
  {
   "source": [
    "# Create an if statement\n",
    "knickswins=47\n",
    "if knickswins > 41:\n",
    "    print(\"The Knicks are over .500!!!\")"
   ],
   "cell_type": "code",
   "metadata": {
    "tags": []
   },
   "execution_count": null,
   "outputs": []
  },
  {
   "source": [
    "# Lab Two\n",
    "---\n",
    "\n",
    "For this lab we're going to get into logic\n",
    "\n",
    "Our Goals are:\n",
    "- Using Conditionals\n",
    "- Using Loops\n",
    "- Creating a Function\n",
    "- Using a Class"
   ],
   "cell_type": "code",
   "metadata": {},
   "execution_count": null,
   "outputs": []
  },
  {
   "cell_type": "code",
   "execution_count": 9,
   "metadata": {
    "tags": []
   },
   "outputs": [
    {
     "output_type": "stream",
     "name": "stdout",
     "text": "The Knicks are doing what they usually do!\n"
    }
   ],
   "source": [
    "# Create an if else statement\n",
    "knickswins=24\n",
    "if knickswins > 41:\n",
    "    print(\"I'm dreaming!\")\n",
    "else:\n",
    "    print(\"The Knicks are doing what they usually do!\")"
   ]
  },
  {
   "cell_type": "code",
   "execution_count": 8,
   "metadata": {
    "tags": []
   },
   "outputs": [
    {
     "output_type": "stream",
     "name": "stdout",
     "text": "The Knicks ARE .500!\n"
    }
   ],
   "source": [
    "# Create an if elif else statement\n",
    "knickswins=41\n",
    "if knickswins > 41:\n",
    "    print(\"I'm dreaming!\")\n",
    "elif knickswins == 41:\n",
    "    print(\"The Knicks ARE .500!\")\n",
    "elif knickswins < 41:\n",
    "    print(\"The Knicks are having a normal season\")"
   ]
  },
  {
   "cell_type": "code",
   "execution_count": 16,
   "metadata": {
    "tags": []
   },
   "outputs": [
    {
     "output_type": "stream",
     "name": "stdout",
     "text": "1\n2\n3\n4\n5\n6\n7\n8\n9\n10\n"
    }
   ],
   "source": [
    "# Create a for loop using range(). Go from 0 to 9. Print out each number.\n",
    "for x in range(10):\n",
    "    x = x+1\n",
    "    print(x)"
   ]
  },
  {
   "cell_type": "code",
   "execution_count": 26,
   "metadata": {
    "tags": []
   },
   "outputs": [
    {
     "output_type": "stream",
     "name": "stdout",
     "text": "Blue\nYellow\nRed\nGreen\nPurple\nMagenta\nLilac\n7\n"
    }
   ],
   "source": [
    "# Create a for loop iterating through this list and printing out the value.\n",
    "arr = ['Blue', 'Yellow', 'Red', 'Green', 'Purple', 'Magenta', 'Lilac']\n",
    "for color in arr:\n",
    "    print(color)\n",
    "print(len(arr))\n",
    "# Get the length of the list above and print it."
   ]
  },
  {
   "source": [
    "# Create a while loop that ends after 6 times through. Print something for each pass.\n",
    "x=0\n",
    "while x <= 50:\n",
    "    print(x)\n",
    "    x = x + 10"
   ],
   "cell_type": "code",
   "metadata": {
    "tags": []
   },
   "execution_count": 5,
   "outputs": [
    {
     "output_type": "stream",
     "name": "stdout",
     "text": "0\n10\n20\n30\n40\n50\n"
    }
   ]
  },
  {
   "cell_type": "code",
   "execution_count": 6,
   "metadata": {
    "tags": []
   },
   "outputs": [
    {
     "output_type": "stream",
     "name": "stdout",
     "text": "40\n"
    }
   ],
   "source": [
    "# Create a function to add 2 numbers together. Print out the number\n",
    "x = 10\n",
    "y = 30\n",
    "z = x + y\n",
    "print(z)"
   ]
  },
  {
   "cell_type": "code",
   "execution_count": 14,
   "metadata": {
    "tags": []
   },
   "outputs": [
    {
     "output_type": "stream",
     "name": "stdout",
     "text": "odd\n"
    }
   ],
   "source": [
    "# Create a function that tells you if a number is odd or even and print the result.\n",
    "x = 5\n",
    "if x % 2 == 0:\n",
    "    print(\"even\")\n",
    "else:\n",
    "    print(\"odd\")"
   ]
  },
  {
   "cell_type": "code",
   "execution_count": 95,
   "metadata": {
    "tags": []
   },
   "outputs": [
    {
     "output_type": "stream",
     "name": "stdout",
     "text": "Name: winnie\nWeight: 15 Pounds\nHeight: 12 Inches\nBreed: chihuahua\n"
    }
   ],
   "source": [
    "# Initialize an instance of the following class. Use a variable to store the object and then call the info function to print out the attributes.\n",
    "class Dog(object):\n",
    "    def __init__(self, name, height, weight, breed):\n",
    "        self.name = name\n",
    "        self.height = height\n",
    "        self.weight = weight\n",
    "        self.breed = breed\n",
    "    def info(self):\n",
    "        print(\"Name:\", self.name)\n",
    "        print(\"Weight:\", str(self.weight) + \" Pounds\")\n",
    "        print(\"Height:\", str(self.height) + \" Inches\")\n",
    "        print(\"Breed:\", self.breed)\n",
    "winnie = Dog('winnie', 12, 15, 'chihuahua')\n",
    "winnie.info()"
   ]
  },
  {
   "cell_type": "code",
   "execution_count": null,
   "metadata": {},
   "outputs": [],
   "source": []
  }
 ]
}