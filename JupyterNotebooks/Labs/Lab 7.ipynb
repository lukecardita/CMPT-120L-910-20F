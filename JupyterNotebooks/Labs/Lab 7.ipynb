import emoji
print(emoji.emojize('Keep it :hundred_points:'))
print(emoji.emojize('Corona is the worst! :face_with_medical_mask:'))
print(emoji.emojize('I just won the lottery! :money-mouth_face:'))
print(emoji.demojize('Keep it 💯'))
print(emoji.demojize('Corona is the worst! 😷'))
print(emoji.demojize('I just won the lottery! 🤑'))