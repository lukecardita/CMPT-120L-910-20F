{
 "metadata": {
  "language_info": {
   "codemirror_mode": {
    "name": "ipython",
    "version": 3
   },
   "file_extension": ".py",
   "mimetype": "text/x-python",
   "name": "python",
   "nbconvert_exporter": "python",
   "pygments_lexer": "ipython3",
   "version": "3.8.6-final"
  },
  "orig_nbformat": 2,
  "kernelspec": {
   "name": "Python 3.8.6 64-bit",
   "display_name": "Python 3.8.6 64-bit",
   "metadata": {
    "interpreter": {
     "hash": "8fa9398b8cdf00418ffad91cdced0fe62fb1b5d00d77a711022dba0230cc3583"
    }
   }
  }
 },
 "nbformat": 4,
 "nbformat_minor": 2,
 "cells": [
  {
   "source": [
    "# Lab Four\n",
    "---\n",
    "\n",
    "For this lab we're going to be messing around with Markdown!\n",
    "\n",
    "Our Goals are:\n",
    "- Using Markdown!\n",
    "\n",
    "I want you to describe to me your process of converting the assignment and making it DRY. \n",
    "\n",
    "Please show the ability to:\n",
    "- Make a header\n",
    "- Make a list (ordered or unordered)\n",
    "- Link the Markdown Guide from the lesson. \n",
    "- Artuculate your thought process."
   ],
   "cell_type": "markdown",
   "metadata": {}
  },
  {
   "source": [
    "# My Process With Markdown\n",
    "- Bacon\n",
    "- Egg\n",
    "- Cheese\n",
    "- Markdown Guide from lesson: https://www.markdownguide.org/\n",
    "\n",
    "I had trouble reading what the code was actually doing for Assignment 5, so my process was pretty slow. My assumption is that I'm overthinking something pretty obvious. I still don't entirely understand keeping code dry, and I'm thinking the best method to solve that issue if you didn't mind would be to meet over a call and go over that concept again. I've tried reveiewing the lesson and I'm still struggling. To summarize, I really didn't entirely figure out assignment 4 in time, and I have 2 midterms next week so I cannot commit more time to it currently. I think the more productive solution would be to go over the concept with you again, despite the fact that it won't help my grade.\n"
   ],
   "cell_type": "markdown",
   "metadata": {}
  }
 ]
}